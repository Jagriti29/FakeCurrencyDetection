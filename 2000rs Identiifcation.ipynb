version https://git-lfs.github.com/spec/v1
oid sha256:d68aca3161f7ae6b25b12ea7b853f2f2da6fc8b6dd2b80e1951c3dbe0ea0bdb7
size 108509
